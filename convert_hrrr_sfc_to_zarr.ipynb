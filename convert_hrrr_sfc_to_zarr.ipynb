{
 "cells": [
  {
   "cell_type": "code",
   "execution_count": 2,
   "id": "9fcd69ec-a084-4cdd-b1a5-4774d435ff57",
   "metadata": {},
   "outputs": [],
   "source": [
    "# import pylab as plt\n",
    "import tqdm as tqdm\n",
    "import pandas as pd\n",
    "from herbie import FastHerbie\n",
    "from herbie import Herbie\n",
    "# import cartopy.crs as ccrs\n",
    "import numpy as np\n",
    "import xarray as xr\n",
    "import warnings\n",
    "warnings.filterwarnings('ignore')\n",
    "import zarr\n",
    "from IPython.utils import io"
   ]
  },
  {
   "cell_type": "code",
   "execution_count": 3,
   "id": "36e227e5-c530-4668-bc2f-8f586495cb06",
   "metadata": {},
   "outputs": [],
   "source": [
    "#Specify the time range over which to generate zarr files\n",
    "DATES = pd.date_range('2021-03-15 00:00', '2021-03-17 00:00', freq='1H')"
   ]
  },
  {
   "cell_type": "code",
   "execution_count": 5,
   "id": "84485971-96ff-4ea1-8b4b-25d4cf893348",
   "metadata": {},
   "outputs": [],
   "source": [
    "# Create zarr filename prefix\n",
    "of_name = DATES[0].strftime(\"%y-%m-%d-%Hz\") + '_to_' + DATES[-1].strftime(\"%y-%m-%d-%Hz\")"
   ]
  },
  {
   "cell_type": "code",
   "execution_count": 6,
   "id": "5906ac09-9869-4c87-bb92-de48059f4254",
   "metadata": {},
   "outputs": [],
   "source": [
    "# Instantiate herbie classes\n",
    "H = FastHerbie(DATES, model=\"hrrr\", product=\"sfc\", save_dir='/home/xiao169/scratch/hrrr_data', fxx=[1])\n",
    "# Hnat = FastHerbie(DATES, model=\"hrrr\", product=\"nat\", save_dir='/home/xiao169/scratch/', fxx=[1], verbose=True)"
   ]
  },
  {
   "cell_type": "code",
   "execution_count": 7,
   "id": "9b760f62-2aa7-4ccf-860f-a084eb2c1caa",
   "metadata": {},
   "outputs": [
    {
     "name": "stderr",
     "output_type": "stream",
     "text": [
      "  0%|          | 0/17 [00:00<?, ?it/s]"
     ]
    },
    {
     "name": "stdout",
     "output_type": "stream",
     "text": [
      "👨🏻‍🏭 Created directory: [/home/xiao169/scratch/hrrr_data/hrrr/20210315]\n"
     ]
    },
    {
     "name": "stderr",
     "output_type": "stream",
     "text": [
      "100%|██████████| 17/17 [00:38<00:00,  2.24s/it]\n"
     ]
    }
   ],
   "source": [
    "# Define surface variables to be read and download them if needed\n",
    "surface_name = {} \n",
    "surface_name['VIL'] = \"VIL\"\n",
    "surface_name['SST'] = \":TMP:surface\"  \n",
    "surface_name['T2m'] =\"TMP:2 m\"\n",
    "surface_name['QV2m'] =\"SPFH:2 m\"\n",
    "surface_name['U80'] = \"UGRD:80 m\"\n",
    "surface_name['V80'] = \"VGRD:80 m\"\n",
    "surface_name['U10'] = \"UGRD:10 m\"\n",
    "surface_name['V10'] = \"VGRD:10 m\"\n",
    "surface_name['PSFC'] = \"PRES:surface\"\n",
    "surface_name['LHTFL'] = \"LHTFL:surface\"\n",
    "surface_name['SHTFL'] = \"SHTFL:surface\"\n",
    "surface_name['DSWRF'] = \"DSWRF:surface\"\n",
    "surface_name['LCDC'] = \"LCDC\"\n",
    "surface_name['WIND'] = \"WIND\"\n",
    "surface_name['HPBL'] = \"HPBL\"\n",
    "surface_name['LAND'] = \"LAND\"\n",
    "surface_name['DLWRF'] = \"DLWRF:surface\"\n",
    "for name, regex in tqdm.tqdm(surface_name.items()):\n",
    "    H.download(regex)"
   ]
  },
  {
   "cell_type": "code",
   "execution_count": 8,
   "id": "b407ef36-7d13-42b0-b0a0-ea43dc4117dc",
   "metadata": {},
   "outputs": [
    {
     "name": "stderr",
     "output_type": "stream",
     "text": [
      "100%|██████████| 17/17 [11:49<00:00, 41.71s/it]\n"
     ]
    }
   ],
   "source": [
    "# Convert downloaded grib2 files to zarr\n",
    "for name, regex in tqdm.tqdm(surface_name.items()):\n",
    "    with io.capture_output() as captured:\n",
    "        ds = H.xarray(regex, max_threads=1)\n",
    "    ds.to_zarr('/home/xiao169/scratch/'+of_name + '_surface.zarr', mode='a')\n",
    "    ds.close()"
   ]
  }
 ],
 "metadata": {
  "kernelspec": {
   "display_name": "Python 3 (ipykernel)",
   "language": "python",
   "name": "python3"
  },
  "language_info": {
   "codemirror_mode": {
    "name": "ipython",
    "version": 3
   },
   "file_extension": ".py",
   "mimetype": "text/x-python",
   "name": "python",
   "nbconvert_exporter": "python",
   "pygments_lexer": "ipython3",
   "version": "3.11.3"
  }
 },
 "nbformat": 4,
 "nbformat_minor": 5
}
